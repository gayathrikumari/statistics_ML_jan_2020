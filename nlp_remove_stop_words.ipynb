{
 "cells": [
  {
   "cell_type": "code",
   "execution_count": null,
   "metadata": {},
   "outputs": [],
   "source": [
    "# Given a sentence remove words [\"I\", \"am\", \" the\"]\n",
    "\n",
    "\n",
    "# for example input: I am manishanker. I hate ML. The subject is boring\n",
    "\n",
    "\n",
    "              #output: manishanker. hate ML. subject is boring"
   ]
  },
  {
   "cell_type": "code",
   "execution_count": null,
   "metadata": {},
   "outputs": [],
   "source": [
    "stop_words = [\"I\", \"am\", \"the\"]\n",
    "\n",
    "def remove_stop_words(input_text):\n",
    "    \n",
    "    \"\"\"\n",
    "        Fill this function\n",
    "    \"\"\"\n",
    "    return \" \".join([word for word in input_text.split(\" \") if word.lower() not in [k.lower() for k in stop_words]])"
   ]
  },
  {
   "cell_type": "code",
   "execution_count": null,
   "metadata": {},
   "outputs": [],
   "source": [
    "input_text = \"i am manishanker. I hate ML. The subject is boring\"\n",
    "out = remove_stop_words(input_text)\n",
    "print(out)"
   ]
  },
  {
   "cell_type": "code",
   "execution_count": null,
   "metadata": {},
   "outputs": [],
   "source": [
    "stop_words_lower  = [word.lower() for word in stop_words]"
   ]
  },
  {
   "cell_type": "code",
   "execution_count": null,
   "metadata": {},
   "outputs": [],
   "source": [
    "stop_words_lower"
   ]
  },
  {
   "cell_type": "code",
   "execution_count": null,
   "metadata": {},
   "outputs": [],
   "source": []
  }
 ],
 "metadata": {
  "kernelspec": {
   "display_name": "'Python Interactive'",
   "language": "python",
   "name": "c881d7b5-bdd5-49ff-8912-f8542912bb1f"
  },
  "language_info": {
   "codemirror_mode": {
    "name": "ipython",
    "version": 3
   },
   "file_extension": ".py",
   "mimetype": "text/x-python",
   "name": "python",
   "nbconvert_exporter": "python",
   "pygments_lexer": "ipython3",
   "version": "3.7.3"
  }
 },
 "nbformat": 4,
 "nbformat_minor": 2
}
